{
 "cells": [
  {
   "cell_type": "code",
   "execution_count": null,
   "metadata": {},
   "outputs": [],
   "source": [
    "import sys, os; sys.path.append(os.path.dirname(os.getcwd())) \n",
    "\n",
    "import numpy as np\n",
    "from scipy import stats\n",
    "from benchmark import bench\n",
    "from pyfrechet.metric_spaces import *\n",
    "\n",
    "OUT_FILE = 'results/20230619-result_sphere.json'\n",
    "\n",
    "def gen_data(N, p, alpha, beta, eps=0.1):\n",
    "    M = Sphere(2)\n",
    "\n",
    "    def m(x):\n",
    "        eta = 2 * (x - 0.5).dot(beta) / np.sqrt(p) + alpha\n",
    "        z = stats.logistic.cdf(eta)\n",
    "        dz = np.sqrt(1 - z**2)\n",
    "        pz = np.pi * z\n",
    "        y= np.c_[dz * np.cos(pz), dz * np.sin(pz), z]\n",
    "        return y\n",
    "\n",
    "    def add_noise(x, sig):\n",
    "        v = sig * np.random.normal(size=(M.manifold.dim+1,))\n",
    "        pvx = v - np.dot(x, v) * x\n",
    "        return M.manifold.metric.exp(pvx, x)\n",
    "\n",
    "    x = np.random.rand(N*p).reshape((N,p))\n",
    "    mx = m(x)\n",
    "    y = np.array([ add_noise(mx[i,:], eps) for i in range(N)])\n",
    "    return x, MetricData(M, y), MetricData(M, mx)\n",
    "\n",
    "bench(\n",
    "    gen_data,\n",
    "    OUT_FILE,\n",
    "    ps=[2, 5, 10, 20],\n",
    "    Ns=[50,100,200,400],\n",
    "    replicas=100\n",
    ")"
   ]
  }
 ],
 "metadata": {
  "kernelspec": {
   "display_name": "Python 3 (ipykernel)",
   "language": "python",
   "name": "python3"
  },
  "language_info": {
   "codemirror_mode": {
    "name": "ipython",
    "version": 3
   },
   "file_extension": ".py",
   "mimetype": "text/x-python",
   "name": "python",
   "nbconvert_exporter": "python",
   "pygments_lexer": "ipython3",
   "version": "3.9.16"
  }
 },
 "nbformat": 4,
 "nbformat_minor": 2
}
