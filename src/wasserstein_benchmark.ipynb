{
 "cells": [
  {
   "cell_type": "code",
   "execution_count": 7,
   "metadata": {},
   "outputs": [],
   "source": [
    "import sys, os; sys.path.append(os.path.dirname(os.getcwd())) \n",
    "from benchmark import bench\n",
    "\n",
    "import numpy as np\n",
    "from scipy import stats\n",
    "\n",
    "from pyfrechet.metric_spaces import *\n",
    "import pyfrechet.metric_spaces.wasserstein_1d as W1d\n",
    "\n",
    "def gen_data(N, p, alpha, beta, sig0=1, gam=2.5):\n",
    "    M = W1d.Wasserstein1D()\n",
    "    \n",
    "    STD_NORMAL_Q = stats.norm.ppf(W1d.Wasserstein1D.GRID)\n",
    "    STD_NORMAL_Q[0] = 2*STD_NORMAL_Q[1] - STD_NORMAL_Q[2] # lexp to avoid infs\n",
    "    STD_NORMAL_Q[-1] = 2*STD_NORMAL_Q[-2] - STD_NORMAL_Q[-3] # lexp to avoid infs\n",
    "\n",
    "    def m(x):\n",
    "        eta = 10*(x-0.5).dot(beta)/np.sqrt(p) + alpha\n",
    "        mu = eta\n",
    "        sig = sig0 + gam*stats.logistic.cdf(eta)\n",
    "        return mu + sig * STD_NORMAL_Q\n",
    "\n",
    "    x = np.random.rand(N*p).reshape((N,p))\n",
    "    mx = np.array([ m(x[i,:]) for i in range(N)])\n",
    "    y = np.array([ W1d.noise_2(mx[i,:], l=2) for i in range(N)])\n",
    "\n",
    "    return x, MetricData(M, y), MetricData(M, mx)"
   ]
  },
  {
   "cell_type": "code",
   "execution_count": null,
   "metadata": {},
   "outputs": [],
   "source": [
    "OUT_FILE = 'results/20230626-result_wasserstein_400_5-10-20.json'\n",
    "\n",
    "bench(\n",
    "    gen_data,\n",
    "    OUT_FILE,\n",
    "    ps=[2,5,10,20],\n",
    "    Ns=[50,100,200,400],\n",
    "    replicas=100\n",
    ")"
   ]
  }
 ],
 "metadata": {
  "kernelspec": {
   "display_name": "Python 3",
   "language": "python",
   "name": "python3"
  },
  "language_info": {
   "codemirror_mode": {
    "name": "ipython",
    "version": 3
   },
   "file_extension": ".py",
   "mimetype": "text/x-python",
   "name": "python",
   "nbconvert_exporter": "python",
   "pygments_lexer": "ipython3",
   "version": "3.9.16"
  },
  "orig_nbformat": 4
 },
 "nbformat": 4,
 "nbformat_minor": 2
}
